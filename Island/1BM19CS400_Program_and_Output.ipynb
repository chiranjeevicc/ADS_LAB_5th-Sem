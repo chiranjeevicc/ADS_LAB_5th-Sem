{
 "metadata": {
  "language_info": {
   "codemirror_mode": {
    "name": "ipython",
    "version": 3
   },
   "file_extension": ".py",
   "mimetype": "text/x-python",
   "name": "python",
   "nbconvert_exporter": "python",
   "pygments_lexer": "ipython3",
   "version": "3.6.8-final"
  },
  "orig_nbformat": 2,
  "kernelspec": {
   "name": "python36832bit877e2e3c2b21480abb9d4bd996202df4",
   "display_name": "Python 3.6.8 32-bit",
   "language": "python"
  }
 },
 "nbformat": 4,
 "nbformat_minor": 2,
 "cells": [
  {
   "cell_type": "code",
   "execution_count": 20,
   "metadata": {},
   "outputs": [],
   "source": [
    "import sys \n",
    "\n",
    "class Graph: \n",
    "\n",
    "    def __init__(self, vertices): \n",
    "        self.V = vertices \n",
    "        self.graph = [[0 for column in range(vertices)] \n",
    "                    for row in range(vertices)] \n",
    "\n",
    "    def printSolution(self, dist):\n",
    "        for i in range(self.V): \n",
    "            print (f\"Vertex {i} Distance from Source\") \n",
    "            for node in range(self.V): \n",
    "                print (node, \"t\", dist[node])\n",
    "            \n",
    "    def minDistance(self, dist, sptSet): \n",
    " \n",
    "        min = sys.maxsize  \n",
    "        for v in range(self.V): \n",
    "            if dist[v] < min and sptSet[v] == False: \n",
    "                min = dist[v] \n",
    "                min_index = v \n",
    "        return min_index\n",
    "    \n",
    "    def dijkstra(self, src): \n",
    "\n",
    "        dist = [sys.maxsize] * self.V \n",
    "        dist[src] = 0\n",
    "        sptSet = [False] * self.V \n",
    "        for cout in range(self.V): \n",
    "            u = self.minDistance(dist, sptSet) \n",
    "            sptSet[u] = True \n",
    "            for v in range(self.V): \n",
    "                if self.graph[u][v] > 0 and sptSet[v] == False and dist[v] > dist[u] + self.graph[u][v]: \n",
    "                            dist[v] = dist[u] + self.graph[u][v] \n",
    "        self.printSolution(dist)"
   ]
  },
  {
   "cell_type": "code",
   "execution_count": 21,
   "metadata": {},
   "outputs": [
    {
     "output_type": "stream",
     "name": "stdout",
     "text": [
      "Vertex 0 Distance from Source\n0 t 0\n1 t 10\n2 t 50\n3 t 30\n4 t 60\nVertex 1 Distance from Source\n0 t 0\n1 t 10\n2 t 50\n3 t 30\n4 t 60\nVertex 2 Distance from Source\n0 t 0\n1 t 10\n2 t 50\n3 t 30\n4 t 60\nVertex 3 Distance from Source\n0 t 0\n1 t 10\n2 t 50\n3 t 30\n4 t 60\nVertex 4 Distance from Source\n0 t 0\n1 t 10\n2 t 50\n3 t 30\n4 t 60\nVertex 0 Distance from Source\n0 t 10\n1 t 0\n2 t 50\n3 t 40\n4 t 60\nVertex 1 Distance from Source\n0 t 10\n1 t 0\n2 t 50\n3 t 40\n4 t 60\nVertex 2 Distance from Source\n0 t 10\n1 t 0\n2 t 50\n3 t 40\n4 t 60\nVertex 3 Distance from Source\n0 t 10\n1 t 0\n2 t 50\n3 t 40\n4 t 60\nVertex 4 Distance from Source\n0 t 10\n1 t 0\n2 t 50\n3 t 40\n4 t 60\nVertex 0 Distance from Source\n0 t 50\n1 t 50\n2 t 0\n3 t 20\n4 t 10\nVertex 1 Distance from Source\n0 t 50\n1 t 50\n2 t 0\n3 t 20\n4 t 10\nVertex 2 Distance from Source\n0 t 50\n1 t 50\n2 t 0\n3 t 20\n4 t 10\nVertex 3 Distance from Source\n0 t 50\n1 t 50\n2 t 0\n3 t 20\n4 t 10\nVertex 4 Distance from Source\n0 t 50\n1 t 50\n2 t 0\n3 t 20\n4 t 10\nVertex 0 Distance from Source\n0 t 30\n1 t 40\n2 t 20\n3 t 0\n4 t 30\nVertex 1 Distance from Source\n0 t 30\n1 t 40\n2 t 20\n3 t 0\n4 t 30\nVertex 2 Distance from Source\n0 t 30\n1 t 40\n2 t 20\n3 t 0\n4 t 30\nVertex 3 Distance from Source\n0 t 30\n1 t 40\n2 t 20\n3 t 0\n4 t 30\nVertex 4 Distance from Source\n0 t 30\n1 t 40\n2 t 20\n3 t 0\n4 t 30\nVertex 0 Distance from Source\n0 t 60\n1 t 60\n2 t 10\n3 t 30\n4 t 0\nVertex 1 Distance from Source\n0 t 60\n1 t 60\n2 t 10\n3 t 30\n4 t 0\nVertex 2 Distance from Source\n0 t 60\n1 t 60\n2 t 10\n3 t 30\n4 t 0\nVertex 3 Distance from Source\n0 t 60\n1 t 60\n2 t 10\n3 t 30\n4 t 0\nVertex 4 Distance from Source\n0 t 60\n1 t 60\n2 t 10\n3 t 30\n4 t 0\n"
     ]
    }
   ],
   "source": [
    "g = Graph(5)\n",
    "g.graph = [[0,10,0,30,100],\n",
    "            [10,0,50,0,0],\n",
    "            [0,50,0,20,10],\n",
    "            [30,0,20,0,60],\n",
    "            [100,0,10,60,0]]\n",
    "g.dijkstra(0)\n",
    "g.dijkstra(1)\n",
    "g.dijkstra(2)\n",
    "g.dijkstra(3)\n",
    "g.dijkstra(4)"
   ]
  },
  {
   "cell_type": "code",
   "execution_count": null,
   "metadata": {},
   "outputs": [],
   "source": []
  }
 ]
}